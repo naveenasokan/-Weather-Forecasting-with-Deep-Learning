{
 "cells": [
  {
   "cell_type": "markdown",
   "id": "dbf1d5e6",
   "metadata": {},
   "source": [
    "# Weather forecasting with Deep Learning"
   ]
  },
  {
   "cell_type": "markdown",
   "id": "a75b927f",
   "metadata": {},
   "source": [
    "### Team Members - Anagha Mayasandra Vinaya Simha and Naveen Asokan"
   ]
  },
  {
   "cell_type": "markdown",
   "id": "3dbe9070",
   "metadata": {},
   "source": [
    "### Executive Summary\n",
    "\n",
    "Decisions to be impacted :\n",
    "In the context of weather forecasting, machine learning plays a very important role in helping us predict f\n",
    "uture weather conditions and also the accuracy of our predictions. These predictions play a crucial role in many real-world applications. Some of them include:\n",
    "\n",
    "Agriculture:\n",
    "\n",
    "Crop planting: Decisions on when to plant a crop is highly dependent on the weather. If the region is expecting famine during crop planting, then the farmer might undergo huge losses.\n",
    "\n",
    "Irrigation: Farmers can decide on how much water would be needed based on future weather data.\n",
    "\n",
    "Pest Control: Many pests thrive on warmer climates where there is high CO2 levels in the soil. Controlling when to use pesticides and how much pesticides should be used is critical to crop survival.\n",
    "\n",
    "Transportation:\n",
    "\n",
    "Flight and Shipping schedules: it is important for flight and shipping companies to know the weather conditions so that they can reroute in case of bad weather conditions.\n",
    "\n",
    "Public transport Operations: In case of severe weather, the public might need more access to public transport and knowing weather conditions beforehand can help them be prepared.\n",
    "\n",
    "Emergency and Disaster Management:\n",
    "\n",
    "Resource allocation: The government can provide the necessary resources to the public when they have managed procuring large quantities of food, water etc.,\n",
    "\n",
    "Evacuations: The government and the public can know about the evacuation plans and can better prepare their home and shelter to bear the brunt of the disaster.\n",
    "\n",
    "### Business values:\n",
    "\n",
    "The aim of this project is to help the society to be better prepared in terms of future weather. As seen in the past, hurricanes and snowfall can cause a lot of property damage and have a wrongful impact on the everyday activities of a human being. This project aims to minimize these situations and improve the current weather forecasting applications.\n",
    "\n",
    "### Data Assets:\n",
    "\n",
    "While we did consider utilising the NOAA data as our original dataset, the hurricane Helene caused major outages due to which we had to change our data to Open Meteo historical data API. O\n",
    "ur dataset now containes 32 features\n",
    "and 1086120 samples.\n",
    "\n",
    "Predictive analytics: the data from open Meteo contains past data(from the year 2000 to Oct 11 2024) which forms the core of our features which are required for modelling. An irrigation scheduling machine can predict rain in the\n",
    "next few days, asking a farmer to use lesser water than usual.\n",
    "\n",
    "Descriptive Analytics: Since we have used past data, we can easily catch the trends and seasonality in our models. For example, the transportation department can assess the past weather data patterns to determine when bad\n",
    "weather conditions can be expected, so that rerouting could be done in advance.\n",
    "\n",
    "Prescriptive Analytics: The government can use prescriptive analytics to determine how many bags of grains will be required during a disaster by analyzing previous trends."
   ]
  },
  {
   "cell_type": "markdown",
   "id": "19fb6f4a",
   "metadata": {},
   "source": [
    "#### Los Angeles seems to be very different from all the other cities by weather codes. How did you handle this?\n",
    "\n",
    "#### Answer: \n",
    "We chose all the cities based on the fact that they have very different weather conditions. We wanted to consider these cities because they represent the variation in temperature across different regions in the US. We have not modified our data at all. We have considered every city to be different and in the future, we will consider a single model that can fit into all the cities"
   ]
  },
  {
   "cell_type": "markdown",
   "id": "13195b6f",
   "metadata": {},
   "source": [
    "#### Would you isolate data into cities that have snowfall occur throughout the year? There might be some insights towards predicting inclement weather that is not present in the other cities.\n",
    "\n",
    "#### Answer:\n",
    "As far as our data processing goes, we do not have any cities where snowfall occurs throughout the year. The cities that we have considered are all different in terms of their weather. Our aim is to use a general model that can predict the weather patterns of all the 5 cities and we are still in the process of seeing how this goes."
   ]
  },
  {
   "cell_type": "markdown",
   "id": "834676a9",
   "metadata": {},
   "source": [
    "#### Can your model account for long-term changes in weather patterns due to climate change?\n",
    "\n",
    "#### Answer: \n",
    "We will be using LSTM and 1D-CNN for weather forecasting. Either of the models cannot predict long-term changes in data. For this project, our aim is to predict weather for 1-2 days ahead."
   ]
  },
  {
   "cell_type": "markdown",
   "id": "655359d9",
   "metadata": {},
   "source": [
    "#### What kind of post-hoc analysis did you perform to understand model behavior after training?\n",
    "\n",
    "#### Answer:\n",
    "We haven't yet trained our data. We're still in the process of training."
   ]
  },
  {
   "cell_type": "markdown",
   "id": "47544714",
   "metadata": {},
   "source": [
    "#### What method do you use for outlier detection?\n",
    "\n",
    "#### Answer:\n",
    "We have used 4 methods for outlier detection: IQR, STL, MCD and Mahalanobis distance. A combination of STL and Mahalanobis distance gives us the outliers present in our data."
   ]
  },
  {
   "cell_type": "markdown",
   "id": "5975ce14",
   "metadata": {},
   "source": [
    "#### How are you accounting for the microclimate effect in Los Angeles? That is an extremely sprawling area, and being situated in between mountains and the ocean causes a great deal of variability in weather conditions across the city.\n",
    "\n",
    "#### Answer: \n"
   ]
  },
  {
   "cell_type": "markdown",
   "id": "bc454aa0",
   "metadata": {},
   "source": [
    "#### Can you please indicate a little bit about what feature selection or feature engineering technic you used in the data preprocessing?\n",
    "\n",
    "#### Answer:\n",
    "\n",
    "We have used covariance matrix to see which of the features are highly correlated and which of them do not have a lot of correlation. Features which had high correlation were dropped. We have also performed log transformation on the vpd feature values to check for skewness. We also have a scatterplot of the different wind speeds and soil temperatures. Since they exhibited high correlation, one of the values were dropped."
   ]
  },
  {
   "cell_type": "markdown",
   "id": "4548a4c9",
   "metadata": {},
   "source": [
    "#### Are you intending to train one model with data from all these cities or train 5 models for 5 cities? Given the micro climates in all of these cities, is that going to be accounted for in model development?\n",
    "\n",
    "#### Answer:\n",
    "We are going to train on both of the above methods. Whichever provides higher performance will be choosen for our model. \n",
    "The micro climates will be accounted for if we plan on using a single model for a weather station."
   ]
  },
  {
   "cell_type": "markdown",
   "id": "550c67c7",
   "metadata": {},
   "source": [
    "#### For weather data, sometimes it can be extreme while also sometimes majority of data are 0. IQR might not work well for some features.\n",
    "\n",
    "#### Answer: \n",
    "Yes, this is the reason we have not considered IQR as the best outlier detection method for our dataset."
   ]
  },
  {
   "cell_type": "markdown",
   "id": "5d874959",
   "metadata": {},
   "source": [
    "#### How's you plan about feature engineering for your DL model based on your descriptive analysis?\n",
    "\n",
    "#### Answer: \n",
    "We will be using STL decomposition along with SARIMA model to make future predictions on our data. As shown in the presentation, our model has shown seasonality and we have also established stationarity with respect to trend. I believe these factors can help model our descriptive analytics."
   ]
  },
  {
   "cell_type": "markdown",
   "id": "e0cc4e72",
   "metadata": {},
   "source": [
    "#### In the box plots, rain for example, I noticed that the range for data points in the box has a very tight range and many sparse points are shown as outliers in boxplots. Is it indicating that 'rain' has a very fixed value?\n",
    "\n",
    "#### Answer:\n",
    "The reason for this is because, all of the cities that we have considered do not have daily rainfall. On the few days that rainfall occurs, it is not a very significant amount. Since we have considered hourly data, most of our values for rain is 0."
   ]
  },
  {
   "cell_type": "markdown",
   "id": "92dd102c",
   "metadata": {},
   "source": [
    "#### What are you going to do with those high correlated variables?\n",
    "\n",
    "#### Answer:\n",
    "We will be dropping one of the highly correlated variables( for example: wind speed and soil temperature)"
   ]
  },
  {
   "cell_type": "markdown",
   "id": "0af8d7b2",
   "metadata": {},
   "source": [
    "#### How do you decide which feature to keep when multiple features have high correlation? What criteria do you use to select the most representative feature?\n",
    "\n",
    "#### Answer:\n",
    "As seen from the covariance matrix, only few of our data points had high correlation. For example, wind_speed_10m and wind_speed_100m were two different variables but they had high correlation so we decided to drop one of those values. Whenever we observe high correlation, we can just drop either of the features. High correlation implies that both the features contribute equally to the prediction."
   ]
  },
  {
   "cell_type": "markdown",
   "id": "7fc2424d",
   "metadata": {},
   "source": [
    "#### Do you plan to look into whether the weather is easier to predict for some of your locations rather than others? As you might know, people like to joke that the weather in St. Louis is particularly difficult to predict, so I was wondering if there is any evidence for that.\n",
    "\n",
    "#### Answer:\n",
    "Like all weather prediction models, our model can appproximate the weather conditions for 1-2 days ahead but an absolute prediction might be hard to make. With respect to St Louis, we have observed some patterns and seasonality in our data which might make it easier to predict the weather. Some locations like LA have almost the same weather conditions which might make it easier to predict, but there are other factors which might not allow for perfect predictions."
   ]
  },
  {
   "cell_type": "markdown",
   "id": "d0b04def",
   "metadata": {},
   "source": [
    "#### why did you choose these area as samples?\n",
    "\n",
    "#### Answer: \n",
    "These cities were chosen due to their high variation in different weather patterns. For example, St Louis experiences extreme weather conditions whereas Houston remains warm for most parts of the year. Likewise, LA is known for its pleasant weather and Chicago, New York are known for their harsh winters. All these weather patterns are different from each other which makes our problem more challenging."
   ]
  },
  {
   "cell_type": "markdown",
   "id": "195241a7",
   "metadata": {},
   "source": [
    "#### Do you think there is predictable features across countries? Like could you predict something about the weather in St Louis by looking at the weather data in Chicago? It would be interesting to see if there is, and if so, how it changes with the distance between cities, etc.\n",
    "\n",
    "#### Answer:\n",
    "Our dataset focuses on the different cities of US. \n",
    "Yes, we aim to predict the weather patterns of neighbouring cities in our next steps."
   ]
  },
  {
   "cell_type": "markdown",
   "id": "f8dd030b",
   "metadata": {},
   "source": [
    "#### What are the key weather variables can be analyzed deeper and what weather elements make you pick those cities.\n",
    "\n",
    "#### Answer:\n",
    "We believe that temperature, rain, snowfall are some of the variables that allow for deeper analysis due to their prevalence in everyday life and the inconvenience that they can bring to everyday life makes them important. We picked the above cities due to the different weather patterns each of them follow."
   ]
  },
  {
   "cell_type": "code",
   "execution_count": null,
   "id": "19ba5680",
   "metadata": {},
   "outputs": [],
   "source": []
  }
 ],
 "metadata": {
  "kernelspec": {
   "display_name": "Python 3 (ipykernel)",
   "language": "python",
   "name": "python3"
  },
  "language_info": {
   "codemirror_mode": {
    "name": "ipython",
    "version": 3
   },
   "file_extension": ".py",
   "mimetype": "text/x-python",
   "name": "python",
   "nbconvert_exporter": "python",
   "pygments_lexer": "ipython3",
   "version": "3.11.5"
  }
 },
 "nbformat": 4,
 "nbformat_minor": 5
}
